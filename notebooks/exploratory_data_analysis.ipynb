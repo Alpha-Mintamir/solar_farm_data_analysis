{
 "cells": [
  {
   "cell_type": "code",
   "execution_count": 8,
   "metadata": {},
   "outputs": [],
   "source": [
    "import os\n",
    "import pandas as pd"
   ]
  },
  {
   "cell_type": "code",
   "execution_count": 10,
   "metadata": {},
   "outputs": [],
   "source": [
    "\n",
    "base_path = os.path.abspath('data')\n"
   ]
  },
  {
   "cell_type": "code",
   "execution_count": 13,
   "metadata": {},
   "outputs": [
    {
     "name": "stdout",
     "output_type": "stream",
     "text": [
      "Base Path: c:\\solar_farm_data_analysis\\solar_farm_data_analysis\\notebooks\\data\n"
     ]
    }
   ],
   "source": [
    "base_path = os.path.abspath('data')\n",
    "print(f\"Base Path: {base_path}\")"
   ]
  },
  {
   "cell_type": "code",
   "execution_count": 23,
   "metadata": {},
   "outputs": [],
   "source": [
    "base_path = 'c:/solar_farm_data_analysis/solar_farm_data_analysis/notebooks/data'\n"
   ]
  },
  {
   "cell_type": "code",
   "execution_count": 25,
   "metadata": {},
   "outputs": [],
   "source": [
    "df_benin = pd.read_csv('C:\\\\solar_farm_data_analysis\\\\solar_farm_data_analysis\\\\data\\\\benin-malanville.csv')\n",
    "df_sierraleone = pd.read_csv('C:\\\\solar_farm_data_analysis\\\\solar_farm_data_analysis\\\\data\\\\sierraleone-bumbuna.csv')\n",
    "df_togo = pd.read_csv('C:\\\\solar_farm_data_analysis\\\\solar_farm_data_analysis\\\\data\\\\togo-dapaong_qc.csv')"
   ]
  },
  {
   "cell_type": "code",
   "execution_count": 28,
   "metadata": {},
   "outputs": [
    {
     "name": "stdout",
     "output_type": "stream",
     "text": [
      "Benin Data:\n",
      "          Timestamp  GHI  DNI  DHI  ModA  ModB  Tamb    RH   WS  WSgust  \\\n",
      "0  2021-08-09 00:01 -1.2 -0.2 -1.1   0.0   0.0  26.2  93.4  0.0     0.4   \n",
      "1  2021-08-09 00:02 -1.1 -0.2 -1.1   0.0   0.0  26.2  93.6  0.0     0.0   \n",
      "2  2021-08-09 00:03 -1.1 -0.2 -1.1   0.0   0.0  26.2  93.7  0.3     1.1   \n",
      "3  2021-08-09 00:04 -1.1 -0.1 -1.0   0.0   0.0  26.2  93.3  0.2     0.7   \n",
      "4  2021-08-09 00:05 -1.0 -0.1 -1.0   0.0   0.0  26.2  93.3  0.1     0.7   \n",
      "\n",
      "   WSstdev     WD  WDstdev   BP  Cleaning  Precipitation  TModA  TModB  \\\n",
      "0      0.1  122.1      0.0  998         0            0.0   26.3   26.2   \n",
      "1      0.0    0.0      0.0  998         0            0.0   26.3   26.2   \n",
      "2      0.5  124.6      1.5  997         0            0.0   26.4   26.2   \n",
      "3      0.4  120.3      1.3  997         0            0.0   26.4   26.3   \n",
      "4      0.3  113.2      1.0  997         0            0.0   26.4   26.3   \n",
      "\n",
      "   Comments  \n",
      "0       NaN  \n",
      "1       NaN  \n",
      "2       NaN  \n",
      "3       NaN  \n",
      "4       NaN  \n",
      "\n",
      "Sierra Leone Data:\n",
      "          Timestamp  GHI  DNI  DHI  ModA  ModB  Tamb    RH   WS  WSgust  \\\n",
      "0  2021-10-30 00:01 -0.7 -0.1 -0.8   0.0   0.0  21.9  99.1  0.0     0.0   \n",
      "1  2021-10-30 00:02 -0.7 -0.1 -0.8   0.0   0.0  21.9  99.2  0.0     0.0   \n",
      "2  2021-10-30 00:03 -0.7 -0.1 -0.8   0.0   0.0  21.9  99.2  0.0     0.0   \n",
      "3  2021-10-30 00:04 -0.7  0.0 -0.8   0.0   0.0  21.9  99.3  0.0     0.0   \n",
      "4  2021-10-30 00:05 -0.7 -0.1 -0.8   0.0   0.0  21.9  99.3  0.0     0.0   \n",
      "\n",
      "   WSstdev   WD  WDstdev    BP  Cleaning  Precipitation  TModA  TModB  \\\n",
      "0      0.0  0.0      0.0  1002         0            0.0   22.3   22.6   \n",
      "1      0.0  0.0      0.0  1002         0            0.0   22.3   22.6   \n",
      "2      0.0  0.0      0.0  1002         0            0.0   22.3   22.6   \n",
      "3      0.0  0.0      0.0  1002         0            0.1   22.3   22.6   \n",
      "4      0.0  0.0      0.0  1002         0            0.0   22.3   22.6   \n",
      "\n",
      "   Comments  \n",
      "0       NaN  \n",
      "1       NaN  \n",
      "2       NaN  \n",
      "3       NaN  \n",
      "4       NaN  \n",
      "\n",
      "Togo Data:\n",
      "          Timestamp  GHI  DNI  DHI  ModA  ModB  Tamb    RH   WS  WSgust  \\\n",
      "0  2021-10-25 00:01 -1.3  0.0  0.0   0.0   0.0  24.8  94.5  0.9     1.1   \n",
      "1  2021-10-25 00:02 -1.3  0.0  0.0   0.0   0.0  24.8  94.4  1.1     1.6   \n",
      "2  2021-10-25 00:03 -1.3  0.0  0.0   0.0   0.0  24.8  94.4  1.2     1.4   \n",
      "3  2021-10-25 00:04 -1.2  0.0  0.0   0.0   0.0  24.8  94.3  1.2     1.6   \n",
      "4  2021-10-25 00:05 -1.2  0.0  0.0   0.0   0.0  24.8  94.0  1.3     1.6   \n",
      "\n",
      "   WSstdev     WD  WDstdev   BP  Cleaning  Precipitation  TModA  TModB  \\\n",
      "0      0.4  227.6      1.1  977         0            0.0   24.7   24.4   \n",
      "1      0.4  229.3      0.7  977         0            0.0   24.7   24.4   \n",
      "2      0.3  228.5      2.9  977         0            0.0   24.7   24.4   \n",
      "3      0.3  229.1      4.6  977         0            0.0   24.7   24.4   \n",
      "4      0.4  227.5      1.6  977         0            0.0   24.7   24.4   \n",
      "\n",
      "   Comments  \n",
      "0       NaN  \n",
      "1       NaN  \n",
      "2       NaN  \n",
      "3       NaN  \n",
      "4       NaN  \n"
     ]
    }
   ],
   "source": [
    "print(\"Benin Data:\")\n",
    "print(df_benin.head())\n",
    "print(\"\\nSierra Leone Data:\")\n",
    "print(df_sierraleone.head())\n",
    "print(\"\\nTogo Data:\")\n",
    "print(df_togo.head())"
   ]
  },
  {
   "cell_type": "code",
   "execution_count": null,
   "metadata": {},
   "outputs": [],
   "source": []
  }
 ],
 "metadata": {
  "kernelspec": {
   "display_name": "venv",
   "language": "python",
   "name": "python3"
  },
  "language_info": {
   "codemirror_mode": {
    "name": "ipython",
    "version": 3
   },
   "file_extension": ".py",
   "mimetype": "text/x-python",
   "name": "python",
   "nbconvert_exporter": "python",
   "pygments_lexer": "ipython3",
   "version": "3.11.7"
  }
 },
 "nbformat": 4,
 "nbformat_minor": 2
}
